{
  "nbformat": 4,
  "nbformat_minor": 0,
  "metadata": {
    "colab": {
      "name": "Elice 1-1 Perceptron.ipynb",
      "provenance": [],
      "authorship_tag": "ABX9TyNovGvRs3SsIQBUni106Dbl",
      "include_colab_link": true
    },
    "kernelspec": {
      "name": "python3",
      "display_name": "Python 3"
    },
    "language_info": {
      "name": "python"
    }
  },
  "cells": [
    {
      "cell_type": "markdown",
      "metadata": {
        "id": "view-in-github",
        "colab_type": "text"
      },
      "source": [
        "<a href=\"https://colab.research.google.com/github/hyesungKomet/rokaf_ai/blob/main/Elice_1_1_Perceptron.ipynb\" target=\"_parent\"><img src=\"https://colab.research.google.com/assets/colab-badge.svg\" alt=\"Open In Colab\"/></a>"
      ]
    },
    {
      "cell_type": "markdown",
      "source": [
        "# 퍼셉트론\n",
        "\n",
        "* 신경망 이전의 연구\n",
        "\n",
        "  사람이 직접 패턴을 파악해서 이를 바탕으로 예측\n",
        "\n",
        "* 인공신경망\n",
        "\n",
        "  사람 대신 패턴부터 파악해서 예측"
      ],
      "metadata": {
        "id": "xTi3FEPZcxZF"
      }
    },
    {
      "cell_type": "markdown",
      "source": [
        "## 퍼셉트론의 기본 구조\n",
        "y = activation(wo + w1x1 + w2x2)\n",
        "\n",
        "activation func:\n",
        "\n",
        "f(x) = 1(x>0), 0(x<=0)"
      ],
      "metadata": {
        "id": "Ck7RwwnldFCU"
      }
    },
    {
      "cell_type": "markdown",
      "source": [
        "![perceptron structure](https://vitalflux.com/wp-content/uploads/2020/05/perceptron.png)"
      ],
      "metadata": {
        "id": "_iSChvC8ftO8"
      }
    },
    {
      "cell_type": "markdown",
      "source": [
        "![linear classifier](https://pyimagesearch.com/wp-content/uploads/2021/04/bitwise_datasets.png)"
      ],
      "metadata": {
        "id": "eJRHhsE4gNGW"
      }
    },
    {
      "cell_type": "markdown",
      "source": [
        "퍼셉트론은 위와 같이 하나의 직선으로만 표현이 가능한 선형 분류기이다\n",
        "\n",
        "--> 문제발생 위 그림에서의 XOR에 해당하는 예처럼 하나의 직선으로 분류할 수 없는 문제 해결X\n",
        "\n",
        "First AI winter(1969)"
      ],
      "metadata": {
        "id": "u6ukvz7igQus"
      }
    },
    {
      "cell_type": "markdown",
      "source": [
        "## 퍼셉트론 작동 예시 구현"
      ],
      "metadata": {
        "id": "J6LoCi3xh2js"
      }
    },
    {
      "cell_type": "code",
      "execution_count": null,
      "metadata": {
        "colab": {
          "base_uri": "https://localhost:8080/"
        },
        "id": "672MEd3dcp0l",
        "outputId": "90aed191-784f-49da-b828-37e3dd7a6c9a"
      },
      "outputs": [
        {
          "output_type": "stream",
          "name": "stdout",
          "text": [
            "신호의 총합 : 69\n",
            "학습 여부 : 1\n",
            " ==> 학습한다!\n"
          ]
        }
      ],
      "source": [
        "# 학습 여부를 예측하는 퍼셉트론 함수\n",
        "def Perceptron(x_1,x_2):\n",
        "    \n",
        "    # 설정한 가중치값을 적용\n",
        "    w_0 = -5 \n",
        "    w_1 = -1\n",
        "    w_2 = 5\n",
        "    \n",
        "    # 활성화 함수에 들어갈 값을 계산\n",
        "    output = w_0+w_1*x_1+w_2*x_2\n",
        "    \n",
        "    # 활성화 함수 결과를 계산\n",
        "    if output < 0:\n",
        "        y = 0\n",
        "    else:\n",
        "        y = 1\n",
        "    \n",
        "    return y, output\n",
        "\n",
        "\n",
        "\"\"\"\n",
        "1. perceptron의 예측 결과가 학습한다:1 이 나오도록\n",
        "   x_1, x_2에 적절한 값을 입력하세요.\n",
        "\"\"\"\n",
        "# -5 + (-1 * x_1) + (5 * x_2) >= 0 을 만족시키면 된다!\n",
        "x_1 = 1\n",
        "x_2 = 15\n",
        "\n",
        "result, go_out = Perceptron(x_1,x_2)\n",
        "\n",
        "print(\"신호의 총합 : %d\" % go_out)\n",
        "\n",
        "if go_out > 0:\n",
        "    print(\"학습 여부 : %d\\n ==> 학습한다!\" % result)\n",
        "else:\n",
        "    print(\"학습 여부 : %d\\n ==> 학습하지 않는다!\" % result)\n"
      ]
    },
    {
      "cell_type": "markdown",
      "source": [
        "## DIY 퍼셉트론 만들기"
      ],
      "metadata": {
        "id": "oKwYlzIyjJvM"
      }
    },
    {
      "cell_type": "code",
      "source": [
        "'''\n",
        "1. 신호의 총합과 그에 따른 결과 0 또는 1을\n",
        "   반환하는 함수 perceptron을 완성합니다.\n",
        "   \n",
        "   Step01. 입력 받은 값을 이용하여\n",
        "           신호의 총합을 구합니다.\n",
        "           \n",
        "   Step02. 신호의 총합이 0 이상이면 1을, \n",
        "           그렇지 않으면 0을 반환하는 활성화 \n",
        "           함수를 작성합니다.\n",
        "'''\n",
        "def perceptron(w, x):\n",
        "    \n",
        "    output = w[0] + w[1]*x[0] + w[2]*x[1] + w[3]*x[2] + w[4]*x[3]\n",
        "    \n",
        "    if output >= 0:\n",
        "        y = 1\n",
        "    else:\n",
        "        y = 0\n",
        "    \n",
        "    return y, output\n",
        "# x_1, x_2, x_3, x_4의 값을 순서대로 list 형태로 저장\n",
        "x = [1,2,3,4]\n",
        "\n",
        "# w_0, w_1, w_2, w_3, w_4의 값을 순서대로 list 형태로 저장\n",
        "w = [2, -1, 1, 3, -2]\n",
        "\n",
        "# 퍼셉트론의 결과를 출력\n",
        "y, output = perceptron(w,x)\n",
        "\n",
        "print('output: ', output)\n",
        "print('y: ', y)"
      ],
      "metadata": {
        "colab": {
          "base_uri": "https://localhost:8080/"
        },
        "id": "fV7TeAJLhtWk",
        "outputId": "eb11a8e1-f1f3-4501-bd61-ca8063b344cc"
      },
      "execution_count": null,
      "outputs": [
        {
          "output_type": "stream",
          "name": "stdout",
          "text": [
            "output:  4\n",
            "y:  1\n"
          ]
        }
      ]
    },
    {
      "cell_type": "markdown",
      "source": [
        "## 퍼셉트론의 알맞은 가중치 찾기"
      ],
      "metadata": {
        "id": "m1IVxbGCj0Ue"
      }
    },
    {
      "cell_type": "code",
      "source": [
        "import numpy as np\n",
        "\n",
        "\n",
        "def perceptron(w, x):\n",
        "    \n",
        "    output = w[1] * x[0] + w[2] * x[1] + w[0]\n",
        "    \n",
        "    if output >= 0:\n",
        "        y = 1\n",
        "    else:\n",
        "        y = 0\n",
        "    \n",
        "    return y\n",
        "\n",
        "\n",
        "\n",
        "# Input 데이터\n",
        "X = [[0,0], [0,1], [1,0], [1,1]]\n",
        "\n",
        "'''\n",
        "1. perceptron 함수의 입력으로 들어갈 가중치 값을 입력해주세요.\n",
        "   순서대로 w_0, w_1, w_2에 해당됩니다.\n",
        "'''\n",
        "# AND 연산자!\n",
        "# 0 0 -> 0 --> 여기서 bias 값이 음수임을 알 수 있다!\n",
        "# 0 1 -> 0\n",
        "# 1 0 -> 0\n",
        "# 1 1 -> 1\n",
        "w = [-1, 0.5, 0.5]\n",
        "\n",
        "# AND Gate를 만족하는지 출력하여 확인\n",
        "print('perceptron 출력')\n",
        "\n",
        "for x in X:\n",
        "    print('Input: ',x[0], x[1], ', Output: ',perceptron(w, x))\n",
        "\n"
      ],
      "metadata": {
        "colab": {
          "base_uri": "https://localhost:8080/"
        },
        "id": "ISovx4UJjM0U",
        "outputId": "5dcb9338-ff06-4ab3-d69c-d3301e2adaa7"
      },
      "execution_count": null,
      "outputs": [
        {
          "output_type": "stream",
          "name": "stdout",
          "text": [
            "perceptron 출력\n",
            "Input:  0 0 , Output:  0\n",
            "Input:  0 1 , Output:  0\n",
            "Input:  1 0 , Output:  0\n",
            "Input:  1 1 , Output:  1\n"
          ]
        }
      ]
    },
    {
      "cell_type": "markdown",
      "source": [
        "# 다층 퍼셉트론 MLP(Multi Layer Perceptron)\n",
        "\n",
        "* 단층 퍼셉트론은 입력층과 출력층만 존재\n",
        "* 단층 퍼셉트론을 여러 개 쌓아서 다층 퍼셉트론!\n",
        "  -> 비선형 문제 해결 가능!\n",
        "* Hidden Layer가 많이져서 깊은 신경망 -> Deep Learning!\n",
        "\n",
        "은닉층이 깊어질 때 \n",
        "\n",
        "* 장점: 분류가 잘 됨(풍부해짐)\n",
        "\n",
        "* 단점: W(weight)를 많이 구해야 함"
      ],
      "metadata": {
        "id": "cXS0S5gBkan1"
      }
    },
    {
      "cell_type": "markdown",
      "source": [
        "![MLP](https://miro.medium.com/max/565/1*jfEsZoTqJ6W_6tE1wMCdhQ.jpeg)"
      ],
      "metadata": {
        "id": "8j6swWx5k6K-"
      }
    },
    {
      "cell_type": "code",
      "source": [
        ""
      ],
      "metadata": {
        "id": "9r1V2l6Lj24O"
      },
      "execution_count": null,
      "outputs": []
    }
  ]
}