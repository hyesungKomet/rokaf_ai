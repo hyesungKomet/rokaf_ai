{
  "nbformat": 4,
  "nbformat_minor": 0,
  "metadata": {
    "colab": {
      "name": "Elice 3-2  OpenCV.ipynb",
      "provenance": [],
      "authorship_tag": "ABX9TyPmalPY14a5nSlPEbB1hlim",
      "include_colab_link": true
    },
    "kernelspec": {
      "name": "python3",
      "display_name": "Python 3"
    },
    "language_info": {
      "name": "python"
    }
  },
  "cells": [
    {
      "cell_type": "markdown",
      "metadata": {
        "id": "view-in-github",
        "colab_type": "text"
      },
      "source": [
        "<a href=\"https://colab.research.google.com/github/hyesungKomet/rokaf_ai/blob/main/Elice_3_2_OpenCV.ipynb\" target=\"_parent\"><img src=\"https://colab.research.google.com/assets/colab-badge.svg\" alt=\"Open In Colab\"/></a>"
      ]
    },
    {
      "cell_type": "markdown",
      "source": [
        "## 표본화(sampling)\n",
        ": 간격을 만드는ㄴ 것(더 많은 픽셀로 표현하는 것)\n",
        "\n",
        "* upsampling: 간격을 좁게 하는 것 - 더 많이 표현 가능\n",
        "* downsampling: 간격을 넓히는 것 - 표현 적게 됨\n",
        "\n",
        "## 양자화: 명도를 얼마나 세밀하게 표현할 것이냐\n",
        "ex) 4면 숫자가 4개만되니 4가지 명도로만 구분됨\n",
        " 숫자 커질수록 더 부드럽고 세밀하게 표현 가능\n",
        "\n",
        "wxhxc(채널은 3)\n",
        "\n",
        "명도는 0~255로 표현  \n",
        "unsigned int 8로 표현되어서 그런다!"
      ],
      "metadata": {
        "id": "7XdfQcfd6Aot"
      }
    },
    {
      "cell_type": "markdown",
      "source": [
        "* 양자화와 표본화 레벨이 높을수록 세세한 단위로 다양한 색을 표현할 수 있게 됨\n",
        "* 따라서 두 가지 모두 레벨이 높을수록 영상의 색상 표현력이 높아짐\n",
        "* 양자화와 표본화 레벨은 표현할 수 있는 정도의 수를 나타내기 때문에 해상도가 높은 이미지도 색 표현력이 떨어질 수 있음\n",
        "* 양자화와 표본화 레벨이 높아지면 세밀한 단위에서 다양한 색 표현이 가능하므로\n",
        "데이터의 수는 증가하게 됨\n",
        "* 표본화란 연속적인 신호인 아날로그 신호를 특정 주기마다 수집하여 불연속적인 디지털 신호로 바꾸는 것을 의미함\n",
        "* 신호의 세기를 즉 영상에서 명도를 디지털화하는 것은 양자화라고 부름"
      ],
      "metadata": {
        "id": "88bjh4D86g_l"
      }
    },
    {
      "cell_type": "markdown",
      "source": [
        "## 아스키 이미지 만들기\n",
        "이미지를 그레이스케일로 읽어와서 픽셀값 대신 아스키값 출력"
      ],
      "metadata": {
        "id": "3L1E_1zt6uda"
      }
    },
    {
      "cell_type": "code",
      "execution_count": 1,
      "metadata": {
        "id": "kHQoBklS57bD"
      },
      "outputs": [],
      "source": [
        "import numpy\n",
        "import cv2\n",
        "\n",
        "# 아스키 이미지를 출력하는 함수입니다.\n",
        "def print_ascii_img(ascii_img):\n",
        "    for  i in range(ascii_img.shape[0]):\n",
        "        for  j in range(ascii_img.shape[1]):\n",
        "            print(ascii_img[i, j].decode(\"utf-8\"), end=\"\")\n",
        "        print()\n",
        "\n",
        "# 이미지를 아스키로 변환하는 함수입니다.\n",
        "def img2ascii(img, L, ascii_string):\n",
        "    ascii_img = numpy.chararray(img.shape)\n",
        "    \n",
        "    # 0~255 L: 256 -> 16\n",
        "    # 0 16 32 48 64... -> 16\n",
        "    qunit = 256 // L\n",
        "    # 양자화를 수행하고 ascii 문자로 명도를 표현하세요.\n",
        "    for i in range(img.shape[0]):\n",
        "        for j in range(img.shape[1]):\n",
        "            index = img[i,j] // qunit #그레이스케일이라 2차원이다 rgb있으면 3차원으로 뒤에 0~2 중 하나 드갔겠지!\n",
        "            ascii_img[i,j] = ascii_string[index]\n",
        "\n",
        "    return ascii_img\n"
      ]
    },
    {
      "cell_type": "code",
      "source": [
        "if __name__ == \"__main__\":\n",
        "    ascii_string = \"@#BPDQOUo=+*~-`.\"\n",
        "    \n",
        "    # 주어진 이미지를 읽어옵니다.\n",
        "    img = cv2.imread(\"./lena.jpg\", cv2.IMREAD_GRAYSCALE)\n",
        "    \n",
        "    # 함수를 호출하여 결과를 확인합니다.\n",
        "    ascii_img = img2ascii(img, 16, ascii_string)\n",
        "    print_ascii_img(ascii_img)"
      ],
      "metadata": {
        "id": "GDI_uwQ96W29"
      },
      "execution_count": null,
      "outputs": []
    }
  ]
}