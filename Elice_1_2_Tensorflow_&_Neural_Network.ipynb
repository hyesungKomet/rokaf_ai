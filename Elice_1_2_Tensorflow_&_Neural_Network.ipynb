{
  "nbformat": 4,
  "nbformat_minor": 0,
  "metadata": {
    "colab": {
      "name": "Elice 1-2 Tensorflow & Neural Network.ipynb",
      "provenance": [],
      "mount_file_id": "19y9PmRrzPoyUb_GGQ9l42zHflr_31Hbx",
      "authorship_tag": "ABX9TyM9RQh6SCwpEmZax3IYyN9A",
      "include_colab_link": true
    },
    "kernelspec": {
      "name": "python3",
      "display_name": "Python 3"
    },
    "language_info": {
      "name": "python"
    }
  },
  "cells": [
    {
      "cell_type": "markdown",
      "metadata": {
        "id": "view-in-github",
        "colab_type": "text"
      },
      "source": [
        "<a href=\"https://colab.research.google.com/github/hyesungKomet/rokaf_ai/blob/main/Elice_1_2_Tensorflow_%26_Neural_Network.ipynb\" target=\"_parent\"><img src=\"https://colab.research.google.com/assets/colab-badge.svg\" alt=\"Open In Colab\"/></a>"
      ]
    },
    {
      "cell_type": "markdown",
      "source": [
        "## 딥러닝 모델의 학습 방법\n",
        "\n",
        "**예측값과 실제값 간의 오차값을 최소화하는 모델의 인자 찾기!**\n",
        "\n",
        "**Loss function을 최소화하는 가중치를 찾기 위한 최적화 알고리즘 적용!**"
      ],
      "metadata": {
        "id": "HU_ctbABs8EO"
      }
    },
    {
      "cell_type": "markdown",
      "source": [
        "## 학습 순서"
      ],
      "metadata": {
        "id": "eAng4PjRtDoM"
      }
    },
    {
      "cell_type": "markdown",
      "source": [
        "1. 순전파 (Forward propagation)\n",
        "\n",
        "학습용 feature 데이터를 입력하여 예측값 구하기\n",
        "\n",
        "입력 값을 바탕으로 출력 값 계산\n",
        "\n",
        "2. Loss 계산\n",
        "\n",
        "예측값과 실제값 사이의 오차 구하기\n",
        "\n",
        "-> Loss function 구함(MSE, Cross Entropy등등)\n",
        "\n",
        "-> 최적화는 어떻게? 경사 하강법!!!\n",
        "\n",
        "3. 역전파 (Back propagation)\n",
        "\n",
        "Loss를 줄일 수 있는 가중치 업데이트하기\n",
        "각 가중치의 gradient를 구하기 위해서는 직전의 계산값이 필요함\n",
        "\n",
        "4. 1~3 반복하여 Loss 최소로 하는 가중치 구하기\n",
        "\n",
        "1~3으로 가중치가 업데이트됨"
      ],
      "metadata": {
        "id": "S-q9Hqc2tKX0"
      }
    },
    {
      "cell_type": "markdown",
      "source": [
        "![gradient descent](https://i.ytimg.com/vi/b4Vyma9wPHo/maxresdefault.jpg)"
      ],
      "metadata": {
        "id": "8UKQn_7-uqml"
      }
    },
    {
      "cell_type": "markdown",
      "source": [
        "![back propagation](https://i.ytimg.com/vi/iyn2zdALii8/maxresdefault.jpg)"
      ],
      "metadata": {
        "id": "f3f_SJIxvLrl"
      }
    },
    {
      "cell_type": "code",
      "execution_count": null,
      "metadata": {
        "colab": {
          "base_uri": "https://localhost:8080/",
          "height": 137
        },
        "id": "9LEPHS4qmZJk",
        "outputId": "0d59f38a-3500-42c2-a16c-46f52af8d0de"
      },
      "outputs": [
        {
          "output_type": "error",
          "ename": "SyntaxError",
          "evalue": "ignored",
          "traceback": [
            "\u001b[0;36m  File \u001b[0;32m\"<ipython-input-1-cb7203a52f09>\"\u001b[0;36m, line \u001b[0;32m3\u001b[0m\n\u001b[0;31m    **예측값과 실제값 간의 오차값을 최소화하는 모델의 인자 찾기!**\u001b[0m\n\u001b[0m     ^\u001b[0m\n\u001b[0;31mSyntaxError\u001b[0m\u001b[0;31m:\u001b[0m invalid syntax\n"
          ]
        }
      ],
      "source": [
        ""
      ]
    },
    {
      "cell_type": "markdown",
      "source": [
        "# TensorFlow\n",
        "\n",
        "딥러닝 모델 구현 순서\n",
        "1. 데이터 전처리하기\n",
        "2. 딥러닝 모델 구축\n",
        "3. 모델 학습시키기\n",
        "4. 평가 및 예측하기"
      ],
      "metadata": {
        "id": "D1l3ynrsvVa1"
      }
    },
    {
      "cell_type": "markdown",
      "source": [
        "1. 데이터 전처리하기\n",
        "* Tensor 형태의 데이터 입력받는다(Numpy나 Pandas로 받은 데이터도 tf에서 Tensor 형태로 변환됨)\n",
        "* Epoch: 전체 데이터 셋으로 한번 학습 완료\n",
        "* Batch: 나눠진 데이터 묶음( == mini-batch)\n",
        "* Interation: epoch를 나누어서 실행\n",
        "* ex) data: 1000, Batch size = 10  \n",
        "1 epoch = data / Batch size = 100 iteration"
      ],
      "metadata": {
        "id": "2vcDg-BewS01"
      }
    },
    {
      "cell_type": "code",
      "source": [
        "import tensorflow as tf\n",
        "import pandas as pd\n",
        "import numpy as np\n",
        "from sklearn.model_selection import train_test_split\n",
        "\n",
        "import os\n",
        "os.environ['TF_CPP_MIN_LOG_LEVEL'] = '2'\n",
        "\n",
        "np.random.seed(100)\n",
        "tf.random.set_seed(100)\n",
        "\n",
        "# 데이터를 DataFrame 형태로 불러 옵니다.\n",
        "# 굳이 얘를 넣고싶진 않아서 걍 코드만....\n",
        "df = pd.read_csv(\"drive/MyDrive/Advertising.csv\")\n",
        "\n",
        "# DataFrame 데이터 샘플 5개를 출력합니다.\n",
        "print('원본 데이터 샘플 :')\n",
        "print(df.head(),'\\n')\n",
        "\n",
        "# 의미없는 변수는 삭제합니다.\n",
        "df = df.drop(columns=['Unnamed: 0'])\n",
        "\n",
        "\"\"\"\n",
        "1. Sales 변수는 label 데이터로 Y에 저장하고 나머진 X에 저장합니다.\n",
        "\"\"\"\n",
        "X = df.drop(columns=['Sales'])\n",
        "Y = df['Sales']\n",
        "\n",
        "train_X, test_X, train_Y, test_Y = train_test_split(X, Y, test_size=0.3)\n",
        "\n",
        "\"\"\"\n",
        "2. 학습용 데이터를 tf.data.Dataset 형태로 변환합니다.\n",
        "   from_tensor_slices 함수를 사용하여 변환하고 batch를 수행하게 합니다.\n",
        "\"\"\"\n",
        "train_ds = tf.data.Dataset.from_tensor_slices((train_X.values, train_Y.values))\n",
        "train_ds = train_ds.shuffle(len(train_X)).batch(batch_size=5)\n",
        "\n",
        "# 하나의 batch를 뽑아서 feature와 label로 분리합니다.\n",
        "# x, y로 나누어져 있는 거 생각하면 된다\n",
        "[(train_features_batch, label_batch)] = train_ds.take(1)\n",
        "\n",
        "# batch 데이터를 출력합니다.\n",
        "print('\\nFB, TV, Newspaper batch 데이터:\\n',train_features_batch)\n",
        "print('Sales batch 데이터:',label_batch)\n"
      ],
      "metadata": {
        "colab": {
          "base_uri": "https://localhost:8080/"
        },
        "id": "t_-vbE19mxO9",
        "outputId": "74d711af-fadf-45a1-f25d-0b02e14c727a"
      },
      "execution_count": 38,
      "outputs": [
        {
          "output_type": "stream",
          "name": "stdout",
          "text": [
            "원본 데이터 샘플 :\n",
            "   Unnamed: 0     FB    TV  Newspaper  Sales\n",
            "0           1  230.1  37.8       69.2   22.1\n",
            "1           2   44.5  39.3       45.1   10.4\n",
            "2           3   17.2  45.9       69.3    9.3\n",
            "3           4  151.5  41.3       58.5   18.5\n",
            "4           5  180.8  10.8       58.4   12.9 \n",
            "\n",
            "\n",
            "FB, TV, Newspaper batch 데이터:\n",
            " tf.Tensor(\n",
            "[[296.4  36.3 100.9]\n",
            " [228.   37.7  32. ]\n",
            " [  5.4  29.9   9.4]\n",
            " [ 57.5  32.8  23.5]\n",
            " [240.1   7.3   8.7]], shape=(5, 3), dtype=float64)\n",
            "Sales batch 데이터: tf.Tensor([23.8 21.5  5.3 11.8 13.2], shape=(5,), dtype=float64)\n"
          ]
        }
      ]
    },
    {
      "cell_type": "markdown",
      "source": [
        "2. 딥러딩 모델 구축하기: 고수준 API 활용(feat. Keras)\n",
        "* 방법 1\n",
        "  * 모델 클래스 객체 생성\n",
        "  tf.kears.models.Sequential()\n",
        "  * 모델의 각 Layer 구성\n",
        "  tf.keras.layers.Dense(units, activation)\n",
        "  units: 레이어 안의 Node 수  \n",
        "  activation: 적용할 활성화 함수 결정  \n",
        "  Input Layer은 input_shape, input_dim 인수 결정\n",
        "* 방법 2\n",
        "  * 모델에 Layer추가하기\n",
        "  [model].add(tf.kears.layers.Dense(units, activation))\n"
      ],
      "metadata": {
        "id": "nmWUEfa4wus1"
      }
    },
    {
      "cell_type": "code",
      "source": [
        "\n",
        "\"\"\"\n",
        "1. tf.keras.models.Sequential()를 활용하여 신경망 모델을 생성합니다.\n",
        "   자유롭게 layers를 쌓고 마지막 layers는 노드 수를 1개로 설정합니다.\n",
        "   회귀 분석이기에 마지막이 한 개인 것!\n",
        "\"\"\"\n",
        "model = tf.keras.models.Sequential([\n",
        "    # FB, TV, Newspaper로 Sales 예측이니 input shape은 (3, )인 것!\n",
        "    tf.keras.layers.Dense(10, input_shape=(3,)),\n",
        "    tf.keras.layers.Dense(1)\n",
        "    ])\n",
        "\n",
        "print(model.summary())"
      ],
      "metadata": {
        "colab": {
          "base_uri": "https://localhost:8080/"
        },
        "id": "WBaRhqjYoulF",
        "outputId": "e42ab384-c30f-4610-adde-78b400dc4478"
      },
      "execution_count": null,
      "outputs": [
        {
          "output_type": "stream",
          "name": "stdout",
          "text": [
            "Model: \"sequential\"\n",
            "_________________________________________________________________\n",
            " Layer (type)                Output Shape              Param #   \n",
            "=================================================================\n",
            " dense (Dense)               (None, 10)                40        \n",
            "                                                                 \n",
            " dense_1 (Dense)             (None, 1)                 11        \n",
            "                                                                 \n",
            "=================================================================\n",
            "Total params: 51\n",
            "Trainable params: 51\n",
            "Non-trainable params: 0\n",
            "_________________________________________________________________\n",
            "None\n"
          ]
        }
      ]
    },
    {
      "cell_type": "markdown",
      "source": [
        "3. 딥러닝 모델 학습시키기\n",
        "* 모델 학습 방식 설정하는 함수\n",
        "[model].compile(optimizer, loss)  \n",
        "optimizer: 모델 학습 최적화 방법  \n",
        "ex) gradient descent, SGD, momentum, adam, etc  \n",
        "loss: 손실 함수 설정  \n",
        "ex) 회귀: MSE(Mean Square Error) 분류: Cross Entropy 등등\n",
        "\n",
        "* 모델을 학습시키는 함수  \n",
        "[model].fit(x, y, epochs)  \n",
        "x: 학습 데이터\n",
        "y: 학습 데이터의 label"
      ],
      "metadata": {
        "id": "khFpvs9ExZ9F"
      }
    },
    {
      "cell_type": "code",
      "source": [
        "\"\"\"\n",
        "1. 학습용 데이터를 바탕으로 모델의 학습을 수행합니다.\n",
        "    \n",
        "step1. compile 메서드를 사용하여 최적화 모델 설정합니다.\n",
        "       loss는 mean_squared_error, optimizer는 adam으로 설정합니다.\n",
        "       \n",
        "step2. fit 메서드를 사용하여 Dataset으로 변환된 학습용 데이터를 학습합니다.\n",
        "       epochs는 100으로 설정합니다.\n",
        "\"\"\"\n",
        "# loss는 회귀에서는 일반적으로 MSE인 ‘mean_squared_error’, \n",
        "# 분류에서는 ‘sparse_categorical_crossentropy’ 를 주로 사용\n",
        "model.compile(loss='mean_squared_error', optimizer='adam')\n",
        "history = model.fit(train_ds, epochs=100, verbose=1)\n",
        "# verbose 0은 표기없음 1은 진행바, 2는 에포크당 한 줄 출력"
      ],
      "metadata": {
        "colab": {
          "base_uri": "https://localhost:8080/"
        },
        "id": "ZFdaaZb1qTBr",
        "outputId": "7b70ca36-c33c-46f5-c642-93048c62bb61"
      },
      "execution_count": null,
      "outputs": [
        {
          "output_type": "stream",
          "name": "stdout",
          "text": [
            "Epoch 1/100\n",
            "28/28 [==============================] - 1s 1ms/step - loss: 1746.2518\n",
            "Epoch 2/100\n",
            "28/28 [==============================] - 0s 1ms/step - loss: 323.6100\n",
            "Epoch 3/100\n",
            "28/28 [==============================] - 0s 1ms/step - loss: 158.4601\n",
            "Epoch 4/100\n",
            "28/28 [==============================] - 0s 1ms/step - loss: 109.7061\n",
            "Epoch 5/100\n",
            "28/28 [==============================] - 0s 1ms/step - loss: 75.6144\n",
            "Epoch 6/100\n",
            "28/28 [==============================] - 0s 1ms/step - loss: 52.3664\n",
            "Epoch 7/100\n",
            "28/28 [==============================] - 0s 1ms/step - loss: 36.6032\n",
            "Epoch 8/100\n",
            "28/28 [==============================] - 0s 1ms/step - loss: 26.3099\n",
            "Epoch 9/100\n",
            "28/28 [==============================] - 0s 1ms/step - loss: 20.1578\n",
            "Epoch 10/100\n",
            "28/28 [==============================] - 0s 1ms/step - loss: 15.9902\n",
            "Epoch 11/100\n",
            "28/28 [==============================] - 0s 2ms/step - loss: 13.1412\n",
            "Epoch 12/100\n",
            "28/28 [==============================] - 0s 1ms/step - loss: 11.0550\n",
            "Epoch 13/100\n",
            "28/28 [==============================] - 0s 1ms/step - loss: 9.5409\n",
            "Epoch 14/100\n",
            "28/28 [==============================] - 0s 1ms/step - loss: 8.2736\n",
            "Epoch 15/100\n",
            "28/28 [==============================] - 0s 1ms/step - loss: 7.3852\n",
            "Epoch 16/100\n",
            "28/28 [==============================] - 0s 1ms/step - loss: 6.6189\n",
            "Epoch 17/100\n",
            "28/28 [==============================] - 0s 1ms/step - loss: 5.9925\n",
            "Epoch 18/100\n",
            "28/28 [==============================] - 0s 1ms/step - loss: 5.6492\n",
            "Epoch 19/100\n",
            "28/28 [==============================] - 0s 1ms/step - loss: 5.2800\n",
            "Epoch 20/100\n",
            "28/28 [==============================] - 0s 1ms/step - loss: 4.9974\n",
            "Epoch 21/100\n",
            "28/28 [==============================] - 0s 1ms/step - loss: 4.8657\n",
            "Epoch 22/100\n",
            "28/28 [==============================] - 0s 1ms/step - loss: 4.6492\n",
            "Epoch 23/100\n",
            "28/28 [==============================] - 0s 1ms/step - loss: 4.5337\n",
            "Epoch 24/100\n",
            "28/28 [==============================] - 0s 1ms/step - loss: 4.4366\n",
            "Epoch 25/100\n",
            "28/28 [==============================] - 0s 1ms/step - loss: 4.4334\n",
            "Epoch 26/100\n",
            "28/28 [==============================] - 0s 1ms/step - loss: 4.3686\n",
            "Epoch 27/100\n",
            "28/28 [==============================] - 0s 1ms/step - loss: 4.2901\n",
            "Epoch 28/100\n",
            "28/28 [==============================] - 0s 1ms/step - loss: 4.2866\n",
            "Epoch 29/100\n",
            "28/28 [==============================] - 0s 1ms/step - loss: 4.2511\n",
            "Epoch 30/100\n",
            "28/28 [==============================] - 0s 1ms/step - loss: 4.2501\n",
            "Epoch 31/100\n",
            "28/28 [==============================] - 0s 1ms/step - loss: 4.2780\n",
            "Epoch 32/100\n",
            "28/28 [==============================] - 0s 1ms/step - loss: 4.3955\n",
            "Epoch 33/100\n",
            "28/28 [==============================] - 0s 1ms/step - loss: 4.2683\n",
            "Epoch 34/100\n",
            "28/28 [==============================] - 0s 1ms/step - loss: 4.2186\n",
            "Epoch 35/100\n",
            "28/28 [==============================] - 0s 1ms/step - loss: 4.2093\n",
            "Epoch 36/100\n",
            "28/28 [==============================] - 0s 1ms/step - loss: 4.2391\n",
            "Epoch 37/100\n",
            "28/28 [==============================] - 0s 1ms/step - loss: 4.2002\n",
            "Epoch 38/100\n",
            "28/28 [==============================] - 0s 1ms/step - loss: 4.2383\n",
            "Epoch 39/100\n",
            "28/28 [==============================] - 0s 1ms/step - loss: 4.2094\n",
            "Epoch 40/100\n",
            "28/28 [==============================] - 0s 1ms/step - loss: 4.1909\n",
            "Epoch 41/100\n",
            "28/28 [==============================] - 0s 1ms/step - loss: 4.1891\n",
            "Epoch 42/100\n",
            "28/28 [==============================] - 0s 1ms/step - loss: 4.1837\n",
            "Epoch 43/100\n",
            "28/28 [==============================] - 0s 1ms/step - loss: 4.2744\n",
            "Epoch 44/100\n",
            "28/28 [==============================] - 0s 1ms/step - loss: 4.0933\n",
            "Epoch 45/100\n",
            "28/28 [==============================] - 0s 1ms/step - loss: 4.1955\n",
            "Epoch 46/100\n",
            "28/28 [==============================] - 0s 1ms/step - loss: 4.1721\n",
            "Epoch 47/100\n",
            "28/28 [==============================] - 0s 1ms/step - loss: 4.1186\n",
            "Epoch 48/100\n",
            "28/28 [==============================] - 0s 1ms/step - loss: 4.1607\n",
            "Epoch 49/100\n",
            "28/28 [==============================] - 0s 1ms/step - loss: 4.0891\n",
            "Epoch 50/100\n",
            "28/28 [==============================] - 0s 1ms/step - loss: 4.1876\n",
            "Epoch 51/100\n",
            "28/28 [==============================] - 0s 1ms/step - loss: 4.0395\n",
            "Epoch 52/100\n",
            "28/28 [==============================] - 0s 1ms/step - loss: 4.0283\n",
            "Epoch 53/100\n",
            "28/28 [==============================] - 0s 1ms/step - loss: 4.1747\n",
            "Epoch 54/100\n",
            "28/28 [==============================] - 0s 1ms/step - loss: 4.1906\n",
            "Epoch 55/100\n",
            "28/28 [==============================] - 0s 1ms/step - loss: 4.0148\n",
            "Epoch 56/100\n",
            "28/28 [==============================] - 0s 1ms/step - loss: 4.0345\n",
            "Epoch 57/100\n",
            "28/28 [==============================] - 0s 1ms/step - loss: 4.0765\n",
            "Epoch 58/100\n",
            "28/28 [==============================] - 0s 1ms/step - loss: 4.2323\n",
            "Epoch 59/100\n",
            "28/28 [==============================] - 0s 1ms/step - loss: 3.9686\n",
            "Epoch 60/100\n",
            "28/28 [==============================] - 0s 1ms/step - loss: 4.0009\n",
            "Epoch 61/100\n",
            "28/28 [==============================] - 0s 1ms/step - loss: 4.0293\n",
            "Epoch 62/100\n",
            "28/28 [==============================] - 0s 1ms/step - loss: 4.0556\n",
            "Epoch 63/100\n",
            "28/28 [==============================] - 0s 1ms/step - loss: 3.9579\n",
            "Epoch 64/100\n",
            "28/28 [==============================] - 0s 1ms/step - loss: 3.9586\n",
            "Epoch 65/100\n",
            "28/28 [==============================] - 0s 1ms/step - loss: 4.0810\n",
            "Epoch 66/100\n",
            "28/28 [==============================] - 0s 1ms/step - loss: 4.0120\n",
            "Epoch 67/100\n",
            "28/28 [==============================] - 0s 1ms/step - loss: 4.1930\n",
            "Epoch 68/100\n",
            "28/28 [==============================] - 0s 1ms/step - loss: 4.0073\n",
            "Epoch 69/100\n",
            "28/28 [==============================] - 0s 1ms/step - loss: 4.1278\n",
            "Epoch 70/100\n",
            "28/28 [==============================] - 0s 1ms/step - loss: 4.1091\n",
            "Epoch 71/100\n",
            "28/28 [==============================] - 0s 1ms/step - loss: 3.9254\n",
            "Epoch 72/100\n",
            "28/28 [==============================] - 0s 1ms/step - loss: 4.0417\n",
            "Epoch 73/100\n",
            "28/28 [==============================] - 0s 1ms/step - loss: 3.9859\n",
            "Epoch 74/100\n",
            "28/28 [==============================] - 0s 1ms/step - loss: 3.9155\n",
            "Epoch 75/100\n",
            "28/28 [==============================] - 0s 1ms/step - loss: 3.8639\n",
            "Epoch 76/100\n",
            "28/28 [==============================] - 0s 1ms/step - loss: 3.8016\n",
            "Epoch 77/100\n",
            "28/28 [==============================] - 0s 1ms/step - loss: 3.9706\n",
            "Epoch 78/100\n",
            "28/28 [==============================] - 0s 1ms/step - loss: 3.9797\n",
            "Epoch 79/100\n",
            "28/28 [==============================] - 0s 1ms/step - loss: 3.8620\n",
            "Epoch 80/100\n",
            "28/28 [==============================] - 0s 1ms/step - loss: 4.1496\n",
            "Epoch 81/100\n",
            "28/28 [==============================] - 0s 1ms/step - loss: 3.9178\n",
            "Epoch 82/100\n",
            "28/28 [==============================] - 0s 1ms/step - loss: 4.1587\n",
            "Epoch 83/100\n",
            "28/28 [==============================] - 0s 1ms/step - loss: 4.3921\n",
            "Epoch 84/100\n",
            "28/28 [==============================] - 0s 1ms/step - loss: 3.9735\n",
            "Epoch 85/100\n",
            "28/28 [==============================] - 0s 1ms/step - loss: 3.8636\n",
            "Epoch 86/100\n",
            "28/28 [==============================] - 0s 1ms/step - loss: 3.7865\n",
            "Epoch 87/100\n",
            "28/28 [==============================] - 0s 1ms/step - loss: 3.7812\n",
            "Epoch 88/100\n",
            "28/28 [==============================] - 0s 1ms/step - loss: 3.8134\n",
            "Epoch 89/100\n",
            "28/28 [==============================] - 0s 1ms/step - loss: 3.8584\n",
            "Epoch 90/100\n",
            "28/28 [==============================] - 0s 1ms/step - loss: 3.7676\n",
            "Epoch 91/100\n",
            "28/28 [==============================] - 0s 2ms/step - loss: 3.7425\n",
            "Epoch 92/100\n",
            "28/28 [==============================] - 0s 1ms/step - loss: 3.8909\n",
            "Epoch 93/100\n",
            "28/28 [==============================] - 0s 1ms/step - loss: 3.8222\n",
            "Epoch 94/100\n",
            "28/28 [==============================] - 0s 1ms/step - loss: 3.8100\n",
            "Epoch 95/100\n",
            "28/28 [==============================] - 0s 1ms/step - loss: 3.6594\n",
            "Epoch 96/100\n",
            "28/28 [==============================] - 0s 1ms/step - loss: 3.6907\n",
            "Epoch 97/100\n",
            "28/28 [==============================] - 0s 1ms/step - loss: 3.7694\n",
            "Epoch 98/100\n",
            "28/28 [==============================] - 0s 1ms/step - loss: 4.0595\n",
            "Epoch 99/100\n",
            "28/28 [==============================] - 0s 1ms/step - loss: 3.6637\n",
            "Epoch 100/100\n",
            "28/28 [==============================] - 0s 1ms/step - loss: 3.6387\n"
          ]
        }
      ]
    },
    {
      "cell_type": "markdown",
      "source": [
        "4. 평가 및 예측하기\n",
        "* 모델 평가하는 메소드  \n",
        "[model].evaluate(x, y)  \n",
        "x: 테스트 데이터  \n",
        "y: 테스트 데이터의 label\n",
        "* 모델 예측하는 메소드  \n",
        "[model].predict(x)  \n",
        "x: 예측하고자 하는 데이터"
      ],
      "metadata": {
        "id": "fvKrvviJyQ-H"
      }
    },
    {
      "cell_type": "code",
      "source": [
        "\"\"\"\n",
        "1. evaluate 메서드를 사용하여 테스트용 데이터의 loss 값을 계산합니다.\n",
        "\"\"\"\n",
        "loss = model.evaluate(test_X, test_Y, verbose=1)\n",
        "# Tensor로 안해도 evaluate가 자동으로 변환해줌\n",
        "# batch 설정 안한다 그건 학습할 때만!\n",
        "\n",
        "\"\"\"\n",
        "2. predict 메서드를 사용하여 테스트용 데이터의 예측값을 계산합니다.\n",
        "\"\"\"\n",
        "predictions = model.predict(test_X)\n",
        "\n",
        "# 결과를 출력합니다.\n",
        "print(\"테스트 데이터의 Loss 값: \", loss)\n",
        "for i in range(5):\n",
        "    print(\"%d 번째 테스트 데이터의 실제값: %f\" % (i, test_Y.iloc[i]))\n",
        "    print(\"%d 번째 테스트 데이터의 예측값: %f\" % (i, predictions[i][0]))\n"
      ],
      "metadata": {
        "id": "HX-aM38-s6Yl",
        "colab": {
          "base_uri": "https://localhost:8080/"
        },
        "outputId": "12583ab7-f380-45be-f553-5c2a02115b5b"
      },
      "execution_count": null,
      "outputs": [
        {
          "output_type": "stream",
          "name": "stdout",
          "text": [
            "2/2 [==============================] - 0s 12ms/step - loss: 2.5349\n",
            "테스트 데이터의 Loss 값:  2.5348823070526123\n",
            "0 번째 테스트 데이터의 실제값: 6.600000\n",
            "0 번째 테스트 데이터의 예측값: 10.425418\n",
            "1 번째 테스트 데이터의 실제값: 20.700000\n",
            "1 번째 테스트 데이터의 예측값: 19.977503\n",
            "2 번째 테스트 데이터의 실제값: 17.200000\n",
            "2 번째 테스트 데이터의 예측값: 17.103909\n",
            "3 번째 테스트 데이터의 실제값: 19.400000\n",
            "3 번째 테스트 데이터의 예측값: 19.590160\n",
            "4 번째 테스트 데이터의 실제값: 21.800000\n",
            "4 번째 테스트 데이터의 예측값: 21.168644\n"
          ]
        }
      ]
    },
    {
      "cell_type": "markdown",
      "source": [
        "## Iris 신경망 모델로 분류하기"
      ],
      "metadata": {
        "id": "a6fizjBXtknV"
      }
    },
    {
      "cell_type": "code",
      "source": [
        "from sklearn.datasets import load_iris\n",
        "\n",
        "X, Y = load_iris(return_X_y = True)\n",
        "\n",
        "df = pd.DataFrame(X, columns=['꽃받침 길이', '꽃받침 넓이', '꽃잎 길이', '꽃잎 넓이'])\n",
        "df['클래스'] = Y\n",
        "\n",
        "df.head(10)"
      ],
      "metadata": {
        "colab": {
          "base_uri": "https://localhost:8080/",
          "height": 363
        },
        "id": "AEdlng8DrPzD",
        "outputId": "703106e1-3cac-4aa5-ffa1-9458bf2a3b0a"
      },
      "execution_count": 40,
      "outputs": [
        {
          "output_type": "execute_result",
          "data": {
            "text/plain": [
              "   꽃받침 길이  꽃받침 넓이  꽃잎 길이  꽃잎 넓이  클래스\n",
              "0     5.1     3.5    1.4    0.2    0\n",
              "1     4.9     3.0    1.4    0.2    0\n",
              "2     4.7     3.2    1.3    0.2    0\n",
              "3     4.6     3.1    1.5    0.2    0\n",
              "4     5.0     3.6    1.4    0.2    0\n",
              "5     5.4     3.9    1.7    0.4    0\n",
              "6     4.6     3.4    1.4    0.3    0\n",
              "7     5.0     3.4    1.5    0.2    0\n",
              "8     4.4     2.9    1.4    0.2    0\n",
              "9     4.9     3.1    1.5    0.1    0"
            ],
            "text/html": [
              "\n",
              "  <div id=\"df-5bafbccd-fd61-49aa-8345-6471c0a4b6e7\">\n",
              "    <div class=\"colab-df-container\">\n",
              "      <div>\n",
              "<style scoped>\n",
              "    .dataframe tbody tr th:only-of-type {\n",
              "        vertical-align: middle;\n",
              "    }\n",
              "\n",
              "    .dataframe tbody tr th {\n",
              "        vertical-align: top;\n",
              "    }\n",
              "\n",
              "    .dataframe thead th {\n",
              "        text-align: right;\n",
              "    }\n",
              "</style>\n",
              "<table border=\"1\" class=\"dataframe\">\n",
              "  <thead>\n",
              "    <tr style=\"text-align: right;\">\n",
              "      <th></th>\n",
              "      <th>꽃받침 길이</th>\n",
              "      <th>꽃받침 넓이</th>\n",
              "      <th>꽃잎 길이</th>\n",
              "      <th>꽃잎 넓이</th>\n",
              "      <th>클래스</th>\n",
              "    </tr>\n",
              "  </thead>\n",
              "  <tbody>\n",
              "    <tr>\n",
              "      <th>0</th>\n",
              "      <td>5.1</td>\n",
              "      <td>3.5</td>\n",
              "      <td>1.4</td>\n",
              "      <td>0.2</td>\n",
              "      <td>0</td>\n",
              "    </tr>\n",
              "    <tr>\n",
              "      <th>1</th>\n",
              "      <td>4.9</td>\n",
              "      <td>3.0</td>\n",
              "      <td>1.4</td>\n",
              "      <td>0.2</td>\n",
              "      <td>0</td>\n",
              "    </tr>\n",
              "    <tr>\n",
              "      <th>2</th>\n",
              "      <td>4.7</td>\n",
              "      <td>3.2</td>\n",
              "      <td>1.3</td>\n",
              "      <td>0.2</td>\n",
              "      <td>0</td>\n",
              "    </tr>\n",
              "    <tr>\n",
              "      <th>3</th>\n",
              "      <td>4.6</td>\n",
              "      <td>3.1</td>\n",
              "      <td>1.5</td>\n",
              "      <td>0.2</td>\n",
              "      <td>0</td>\n",
              "    </tr>\n",
              "    <tr>\n",
              "      <th>4</th>\n",
              "      <td>5.0</td>\n",
              "      <td>3.6</td>\n",
              "      <td>1.4</td>\n",
              "      <td>0.2</td>\n",
              "      <td>0</td>\n",
              "    </tr>\n",
              "    <tr>\n",
              "      <th>5</th>\n",
              "      <td>5.4</td>\n",
              "      <td>3.9</td>\n",
              "      <td>1.7</td>\n",
              "      <td>0.4</td>\n",
              "      <td>0</td>\n",
              "    </tr>\n",
              "    <tr>\n",
              "      <th>6</th>\n",
              "      <td>4.6</td>\n",
              "      <td>3.4</td>\n",
              "      <td>1.4</td>\n",
              "      <td>0.3</td>\n",
              "      <td>0</td>\n",
              "    </tr>\n",
              "    <tr>\n",
              "      <th>7</th>\n",
              "      <td>5.0</td>\n",
              "      <td>3.4</td>\n",
              "      <td>1.5</td>\n",
              "      <td>0.2</td>\n",
              "      <td>0</td>\n",
              "    </tr>\n",
              "    <tr>\n",
              "      <th>8</th>\n",
              "      <td>4.4</td>\n",
              "      <td>2.9</td>\n",
              "      <td>1.4</td>\n",
              "      <td>0.2</td>\n",
              "      <td>0</td>\n",
              "    </tr>\n",
              "    <tr>\n",
              "      <th>9</th>\n",
              "      <td>4.9</td>\n",
              "      <td>3.1</td>\n",
              "      <td>1.5</td>\n",
              "      <td>0.1</td>\n",
              "      <td>0</td>\n",
              "    </tr>\n",
              "  </tbody>\n",
              "</table>\n",
              "</div>\n",
              "      <button class=\"colab-df-convert\" onclick=\"convertToInteractive('df-5bafbccd-fd61-49aa-8345-6471c0a4b6e7')\"\n",
              "              title=\"Convert this dataframe to an interactive table.\"\n",
              "              style=\"display:none;\">\n",
              "        \n",
              "  <svg xmlns=\"http://www.w3.org/2000/svg\" height=\"24px\"viewBox=\"0 0 24 24\"\n",
              "       width=\"24px\">\n",
              "    <path d=\"M0 0h24v24H0V0z\" fill=\"none\"/>\n",
              "    <path d=\"M18.56 5.44l.94 2.06.94-2.06 2.06-.94-2.06-.94-.94-2.06-.94 2.06-2.06.94zm-11 1L8.5 8.5l.94-2.06 2.06-.94-2.06-.94L8.5 2.5l-.94 2.06-2.06.94zm10 10l.94 2.06.94-2.06 2.06-.94-2.06-.94-.94-2.06-.94 2.06-2.06.94z\"/><path d=\"M17.41 7.96l-1.37-1.37c-.4-.4-.92-.59-1.43-.59-.52 0-1.04.2-1.43.59L10.3 9.45l-7.72 7.72c-.78.78-.78 2.05 0 2.83L4 21.41c.39.39.9.59 1.41.59.51 0 1.02-.2 1.41-.59l7.78-7.78 2.81-2.81c.8-.78.8-2.07 0-2.86zM5.41 20L4 18.59l7.72-7.72 1.47 1.35L5.41 20z\"/>\n",
              "  </svg>\n",
              "      </button>\n",
              "      \n",
              "  <style>\n",
              "    .colab-df-container {\n",
              "      display:flex;\n",
              "      flex-wrap:wrap;\n",
              "      gap: 12px;\n",
              "    }\n",
              "\n",
              "    .colab-df-convert {\n",
              "      background-color: #E8F0FE;\n",
              "      border: none;\n",
              "      border-radius: 50%;\n",
              "      cursor: pointer;\n",
              "      display: none;\n",
              "      fill: #1967D2;\n",
              "      height: 32px;\n",
              "      padding: 0 0 0 0;\n",
              "      width: 32px;\n",
              "    }\n",
              "\n",
              "    .colab-df-convert:hover {\n",
              "      background-color: #E2EBFA;\n",
              "      box-shadow: 0px 1px 2px rgba(60, 64, 67, 0.3), 0px 1px 3px 1px rgba(60, 64, 67, 0.15);\n",
              "      fill: #174EA6;\n",
              "    }\n",
              "\n",
              "    [theme=dark] .colab-df-convert {\n",
              "      background-color: #3B4455;\n",
              "      fill: #D2E3FC;\n",
              "    }\n",
              "\n",
              "    [theme=dark] .colab-df-convert:hover {\n",
              "      background-color: #434B5C;\n",
              "      box-shadow: 0px 1px 3px 1px rgba(0, 0, 0, 0.15);\n",
              "      filter: drop-shadow(0px 1px 2px rgba(0, 0, 0, 0.3));\n",
              "      fill: #FFFFFF;\n",
              "    }\n",
              "  </style>\n",
              "\n",
              "      <script>\n",
              "        const buttonEl =\n",
              "          document.querySelector('#df-5bafbccd-fd61-49aa-8345-6471c0a4b6e7 button.colab-df-convert');\n",
              "        buttonEl.style.display =\n",
              "          google.colab.kernel.accessAllowed ? 'block' : 'none';\n",
              "\n",
              "        async function convertToInteractive(key) {\n",
              "          const element = document.querySelector('#df-5bafbccd-fd61-49aa-8345-6471c0a4b6e7');\n",
              "          const dataTable =\n",
              "            await google.colab.kernel.invokeFunction('convertToInteractive',\n",
              "                                                     [key], {});\n",
              "          if (!dataTable) return;\n",
              "\n",
              "          const docLinkHtml = 'Like what you see? Visit the ' +\n",
              "            '<a target=\"_blank\" href=https://colab.research.google.com/notebooks/data_table.ipynb>data table notebook</a>'\n",
              "            + ' to learn more about interactive tables.';\n",
              "          element.innerHTML = '';\n",
              "          dataTable['output_type'] = 'display_data';\n",
              "          await google.colab.output.renderOutput(dataTable, element);\n",
              "          const docLink = document.createElement('div');\n",
              "          docLink.innerHTML = docLinkHtml;\n",
              "          element.appendChild(docLink);\n",
              "        }\n",
              "      </script>\n",
              "    </div>\n",
              "  </div>\n",
              "  "
            ]
          },
          "metadata": {},
          "execution_count": 40
        }
      ]
    },
    {
      "cell_type": "code",
      "source": [
        "X = df.drop(columns=['클래스'])\n",
        "Y = df['클래스']"
      ],
      "metadata": {
        "id": "qfM1J_sSt2_D"
      },
      "execution_count": 41,
      "outputs": []
    },
    {
      "cell_type": "code",
      "source": [
        "# train, test data separation\n",
        "train_X, test_X, train_Y, test_Y = train_test_split(X, Y, test_size=0.2, random_state=42)"
      ],
      "metadata": {
        "id": "qkNM5V3tuqIr"
      },
      "execution_count": 42,
      "outputs": []
    },
    {
      "cell_type": "code",
      "source": [
        "print(train_X.values.shape)\n",
        "print(train_Y.shape)"
      ],
      "metadata": {
        "colab": {
          "base_uri": "https://localhost:8080/"
        },
        "id": "okvz3F9XwLVq",
        "outputId": "241d46f3-4cfc-44b2-e82a-ad0e4e479311"
      },
      "execution_count": 43,
      "outputs": [
        {
          "output_type": "stream",
          "name": "stdout",
          "text": [
            "(120, 4)\n",
            "(120,)\n"
          ]
        }
      ]
    },
    {
      "cell_type": "code",
      "source": [
        "train_ds = tf.data.Dataset.from_tensor_slices((train_X.values, train_Y))\n",
        "train_ds = train_ds.shuffle(len(train_X)).batch(batch_size=5)"
      ],
      "metadata": {
        "id": "J7IGv6Diu5Ru"
      },
      "execution_count": 44,
      "outputs": []
    },
    {
      "cell_type": "code",
      "source": [
        "model = tf.keras.models.Sequential([\n",
        "  tf.keras.layers.Dense(10, input_dim=4),\n",
        "  tf.keras.layers.Dense(3, activation='softmax')\n",
        "])"
      ],
      "metadata": {
        "id": "MU-GNwxJvShk"
      },
      "execution_count": 45,
      "outputs": []
    },
    {
      "cell_type": "code",
      "source": [
        "model.compile(loss='sparse_categorical_crossentropy', \n",
        "              optimizer='adam', metrics=['accuracy'])\n",
        "history = model.fit(train_ds, epochs=100, verbose=1)"
      ],
      "metadata": {
        "colab": {
          "base_uri": "https://localhost:8080/"
        },
        "id": "OD5ZjQQbxCoN",
        "outputId": "b742ec4c-427e-4759-89d2-dcf21e45e53f"
      },
      "execution_count": 46,
      "outputs": [
        {
          "output_type": "stream",
          "name": "stdout",
          "text": [
            "Epoch 1/100\n",
            "24/24 [==============================] - 0s 1ms/step - loss: 3.5424 - accuracy: 0.3333\n",
            "Epoch 2/100\n",
            "24/24 [==============================] - 0s 1ms/step - loss: 2.3964 - accuracy: 0.4667\n",
            "Epoch 3/100\n",
            "24/24 [==============================] - 0s 2ms/step - loss: 1.5727 - accuracy: 0.6583\n",
            "Epoch 4/100\n",
            "24/24 [==============================] - 0s 1ms/step - loss: 0.9641 - accuracy: 0.6250\n",
            "Epoch 5/100\n",
            "24/24 [==============================] - 0s 2ms/step - loss: 0.8294 - accuracy: 0.4000\n",
            "Epoch 6/100\n",
            "24/24 [==============================] - 0s 2ms/step - loss: 0.7850 - accuracy: 0.4500\n",
            "Epoch 7/100\n",
            "24/24 [==============================] - 0s 1ms/step - loss: 0.7495 - accuracy: 0.4333\n",
            "Epoch 8/100\n",
            "24/24 [==============================] - 0s 2ms/step - loss: 0.7210 - accuracy: 0.5417\n",
            "Epoch 9/100\n",
            "24/24 [==============================] - 0s 2ms/step - loss: 0.6917 - accuracy: 0.5417\n",
            "Epoch 10/100\n",
            "24/24 [==============================] - 0s 1ms/step - loss: 0.6617 - accuracy: 0.6167\n",
            "Epoch 11/100\n",
            "24/24 [==============================] - 0s 1ms/step - loss: 0.6404 - accuracy: 0.6167\n",
            "Epoch 12/100\n",
            "24/24 [==============================] - 0s 2ms/step - loss: 0.6180 - accuracy: 0.6750\n",
            "Epoch 13/100\n",
            "24/24 [==============================] - 0s 2ms/step - loss: 0.6026 - accuracy: 0.7000\n",
            "Epoch 14/100\n",
            "24/24 [==============================] - 0s 2ms/step - loss: 0.5880 - accuracy: 0.6750\n",
            "Epoch 15/100\n",
            "24/24 [==============================] - 0s 1ms/step - loss: 0.5721 - accuracy: 0.8083\n",
            "Epoch 16/100\n",
            "24/24 [==============================] - 0s 2ms/step - loss: 0.5537 - accuracy: 0.7583\n",
            "Epoch 17/100\n",
            "24/24 [==============================] - 0s 2ms/step - loss: 0.5422 - accuracy: 0.7833\n",
            "Epoch 18/100\n",
            "24/24 [==============================] - 0s 2ms/step - loss: 0.5288 - accuracy: 0.9167\n",
            "Epoch 19/100\n",
            "24/24 [==============================] - 0s 2ms/step - loss: 0.5192 - accuracy: 0.8917\n",
            "Epoch 20/100\n",
            "24/24 [==============================] - 0s 1ms/step - loss: 0.5098 - accuracy: 0.7750\n",
            "Epoch 21/100\n",
            "24/24 [==============================] - 0s 1ms/step - loss: 0.4948 - accuracy: 0.9500\n",
            "Epoch 22/100\n",
            "24/24 [==============================] - 0s 2ms/step - loss: 0.4986 - accuracy: 0.6833\n",
            "Epoch 23/100\n",
            "24/24 [==============================] - 0s 2ms/step - loss: 0.4879 - accuracy: 0.8167\n",
            "Epoch 24/100\n",
            "24/24 [==============================] - 0s 2ms/step - loss: 0.4647 - accuracy: 0.8333\n",
            "Epoch 25/100\n",
            "24/24 [==============================] - 0s 1ms/step - loss: 0.4588 - accuracy: 0.9000\n",
            "Epoch 26/100\n",
            "24/24 [==============================] - 0s 2ms/step - loss: 0.4475 - accuracy: 0.9167\n",
            "Epoch 27/100\n",
            "24/24 [==============================] - 0s 1ms/step - loss: 0.4385 - accuracy: 0.9667\n",
            "Epoch 28/100\n",
            "24/24 [==============================] - 0s 1ms/step - loss: 0.4309 - accuracy: 0.8917\n",
            "Epoch 29/100\n",
            "24/24 [==============================] - 0s 1ms/step - loss: 0.4224 - accuracy: 0.9333\n",
            "Epoch 30/100\n",
            "24/24 [==============================] - 0s 1ms/step - loss: 0.4153 - accuracy: 0.9667\n",
            "Epoch 31/100\n",
            "24/24 [==============================] - 0s 2ms/step - loss: 0.4065 - accuracy: 0.9417\n",
            "Epoch 32/100\n",
            "24/24 [==============================] - 0s 2ms/step - loss: 0.3986 - accuracy: 0.9417\n",
            "Epoch 33/100\n",
            "24/24 [==============================] - 0s 1ms/step - loss: 0.3911 - accuracy: 0.9750\n",
            "Epoch 34/100\n",
            "24/24 [==============================] - 0s 2ms/step - loss: 0.3877 - accuracy: 0.9667\n",
            "Epoch 35/100\n",
            "24/24 [==============================] - 0s 1ms/step - loss: 0.3808 - accuracy: 0.9250\n",
            "Epoch 36/100\n",
            "24/24 [==============================] - 0s 2ms/step - loss: 0.3706 - accuracy: 0.9583\n",
            "Epoch 37/100\n",
            "24/24 [==============================] - 0s 1ms/step - loss: 0.3645 - accuracy: 0.9750\n",
            "Epoch 38/100\n",
            "24/24 [==============================] - 0s 2ms/step - loss: 0.3609 - accuracy: 0.9583\n",
            "Epoch 39/100\n",
            "24/24 [==============================] - 0s 2ms/step - loss: 0.3542 - accuracy: 0.9583\n",
            "Epoch 40/100\n",
            "24/24 [==============================] - 0s 1ms/step - loss: 0.3447 - accuracy: 0.9667\n",
            "Epoch 41/100\n",
            "24/24 [==============================] - 0s 2ms/step - loss: 0.3393 - accuracy: 0.9667\n",
            "Epoch 42/100\n",
            "24/24 [==============================] - 0s 1ms/step - loss: 0.3318 - accuracy: 0.9667\n",
            "Epoch 43/100\n",
            "24/24 [==============================] - 0s 2ms/step - loss: 0.3277 - accuracy: 0.9500\n",
            "Epoch 44/100\n",
            "24/24 [==============================] - 0s 2ms/step - loss: 0.3279 - accuracy: 0.9583\n",
            "Epoch 45/100\n",
            "24/24 [==============================] - 0s 2ms/step - loss: 0.3202 - accuracy: 0.9500\n",
            "Epoch 46/100\n",
            "24/24 [==============================] - 0s 2ms/step - loss: 0.3078 - accuracy: 0.9667\n",
            "Epoch 47/100\n",
            "24/24 [==============================] - 0s 2ms/step - loss: 0.3127 - accuracy: 0.9583\n",
            "Epoch 48/100\n",
            "24/24 [==============================] - 0s 1ms/step - loss: 0.3013 - accuracy: 0.9417\n",
            "Epoch 49/100\n",
            "24/24 [==============================] - 0s 1ms/step - loss: 0.2964 - accuracy: 0.9667\n",
            "Epoch 50/100\n",
            "24/24 [==============================] - 0s 2ms/step - loss: 0.2887 - accuracy: 0.9667\n",
            "Epoch 51/100\n",
            "24/24 [==============================] - 0s 2ms/step - loss: 0.2820 - accuracy: 0.9667\n",
            "Epoch 52/100\n",
            "24/24 [==============================] - 0s 1ms/step - loss: 0.2834 - accuracy: 0.9500\n",
            "Epoch 53/100\n",
            "24/24 [==============================] - 0s 1ms/step - loss: 0.2748 - accuracy: 0.9583\n",
            "Epoch 54/100\n",
            "24/24 [==============================] - 0s 1ms/step - loss: 0.2691 - accuracy: 0.9667\n",
            "Epoch 55/100\n",
            "24/24 [==============================] - 0s 1ms/step - loss: 0.2668 - accuracy: 0.9667\n",
            "Epoch 56/100\n",
            "24/24 [==============================] - 0s 2ms/step - loss: 0.2639 - accuracy: 0.9667\n",
            "Epoch 57/100\n",
            "24/24 [==============================] - 0s 1ms/step - loss: 0.2547 - accuracy: 0.9667\n",
            "Epoch 58/100\n",
            "24/24 [==============================] - 0s 2ms/step - loss: 0.2504 - accuracy: 0.9750\n",
            "Epoch 59/100\n",
            "24/24 [==============================] - 0s 2ms/step - loss: 0.2459 - accuracy: 0.9750\n",
            "Epoch 60/100\n",
            "24/24 [==============================] - 0s 2ms/step - loss: 0.2409 - accuracy: 0.9667\n",
            "Epoch 61/100\n",
            "24/24 [==============================] - 0s 2ms/step - loss: 0.2385 - accuracy: 0.9667\n",
            "Epoch 62/100\n",
            "24/24 [==============================] - 0s 1ms/step - loss: 0.2405 - accuracy: 0.9583\n",
            "Epoch 63/100\n",
            "24/24 [==============================] - 0s 1ms/step - loss: 0.2343 - accuracy: 0.9667\n",
            "Epoch 64/100\n",
            "24/24 [==============================] - 0s 2ms/step - loss: 0.2260 - accuracy: 0.9667\n",
            "Epoch 65/100\n",
            "24/24 [==============================] - 0s 2ms/step - loss: 0.2226 - accuracy: 0.9833\n",
            "Epoch 66/100\n",
            "24/24 [==============================] - 0s 2ms/step - loss: 0.2182 - accuracy: 0.9750\n",
            "Epoch 67/100\n",
            "24/24 [==============================] - 0s 2ms/step - loss: 0.2165 - accuracy: 0.9667\n",
            "Epoch 68/100\n",
            "24/24 [==============================] - 0s 1ms/step - loss: 0.2123 - accuracy: 0.9833\n",
            "Epoch 69/100\n",
            "24/24 [==============================] - 0s 2ms/step - loss: 0.2084 - accuracy: 0.9750\n",
            "Epoch 70/100\n",
            "24/24 [==============================] - 0s 1ms/step - loss: 0.2054 - accuracy: 0.9833\n",
            "Epoch 71/100\n",
            "24/24 [==============================] - 0s 2ms/step - loss: 0.2069 - accuracy: 0.9667\n",
            "Epoch 72/100\n",
            "24/24 [==============================] - 0s 2ms/step - loss: 0.2040 - accuracy: 0.9583\n",
            "Epoch 73/100\n",
            "24/24 [==============================] - 0s 1ms/step - loss: 0.2026 - accuracy: 0.9750\n",
            "Epoch 74/100\n",
            "24/24 [==============================] - 0s 1ms/step - loss: 0.1924 - accuracy: 0.9750\n",
            "Epoch 75/100\n",
            "24/24 [==============================] - 0s 1ms/step - loss: 0.1930 - accuracy: 0.9667\n",
            "Epoch 76/100\n",
            "24/24 [==============================] - 0s 2ms/step - loss: 0.1866 - accuracy: 0.9833\n",
            "Epoch 77/100\n",
            "24/24 [==============================] - 0s 2ms/step - loss: 0.1877 - accuracy: 0.9750\n",
            "Epoch 78/100\n",
            "24/24 [==============================] - 0s 2ms/step - loss: 0.1842 - accuracy: 0.9667\n",
            "Epoch 79/100\n",
            "24/24 [==============================] - 0s 2ms/step - loss: 0.1784 - accuracy: 0.9667\n",
            "Epoch 80/100\n",
            "24/24 [==============================] - 0s 1ms/step - loss: 0.1775 - accuracy: 0.9667\n",
            "Epoch 81/100\n",
            "24/24 [==============================] - 0s 1ms/step - loss: 0.1761 - accuracy: 0.9750\n",
            "Epoch 82/100\n",
            "24/24 [==============================] - 0s 2ms/step - loss: 0.1750 - accuracy: 0.9667\n",
            "Epoch 83/100\n",
            "24/24 [==============================] - 0s 1ms/step - loss: 0.1712 - accuracy: 0.9667\n",
            "Epoch 84/100\n",
            "24/24 [==============================] - 0s 2ms/step - loss: 0.1705 - accuracy: 0.9833\n",
            "Epoch 85/100\n",
            "24/24 [==============================] - 0s 2ms/step - loss: 0.1638 - accuracy: 0.9750\n",
            "Epoch 86/100\n",
            "24/24 [==============================] - 0s 2ms/step - loss: 0.1644 - accuracy: 0.9750\n",
            "Epoch 87/100\n",
            "24/24 [==============================] - 0s 2ms/step - loss: 0.1612 - accuracy: 0.9750\n",
            "Epoch 88/100\n",
            "24/24 [==============================] - 0s 2ms/step - loss: 0.1592 - accuracy: 0.9750\n",
            "Epoch 89/100\n",
            "24/24 [==============================] - 0s 2ms/step - loss: 0.1571 - accuracy: 0.9750\n",
            "Epoch 90/100\n",
            "24/24 [==============================] - 0s 1ms/step - loss: 0.1549 - accuracy: 0.9750\n",
            "Epoch 91/100\n",
            "24/24 [==============================] - 0s 1ms/step - loss: 0.1518 - accuracy: 0.9750\n",
            "Epoch 92/100\n",
            "24/24 [==============================] - 0s 2ms/step - loss: 0.1517 - accuracy: 0.9750\n",
            "Epoch 93/100\n",
            "24/24 [==============================] - 0s 2ms/step - loss: 0.1499 - accuracy: 0.9833\n",
            "Epoch 94/100\n",
            "24/24 [==============================] - 0s 2ms/step - loss: 0.1524 - accuracy: 0.9583\n",
            "Epoch 95/100\n",
            "24/24 [==============================] - 0s 1ms/step - loss: 0.1491 - accuracy: 0.9667\n",
            "Epoch 96/100\n",
            "24/24 [==============================] - 0s 2ms/step - loss: 0.1448 - accuracy: 0.9750\n",
            "Epoch 97/100\n",
            "24/24 [==============================] - 0s 2ms/step - loss: 0.1422 - accuracy: 0.9833\n",
            "Epoch 98/100\n",
            "24/24 [==============================] - 0s 2ms/step - loss: 0.1405 - accuracy: 0.9750\n",
            "Epoch 99/100\n",
            "24/24 [==============================] - 0s 2ms/step - loss: 0.1384 - accuracy: 0.9750\n",
            "Epoch 100/100\n",
            "24/24 [==============================] - 0s 2ms/step - loss: 0.1373 - accuracy: 0.9833\n"
          ]
        }
      ]
    },
    {
      "cell_type": "code",
      "source": [
        "loss, acc = model.evaluate(test_X, test_Y)"
      ],
      "metadata": {
        "colab": {
          "base_uri": "https://localhost:8080/"
        },
        "id": "2giIItm_xZdP",
        "outputId": "d08974a2-84ca-4eb4-b658-7156da552e81"
      },
      "execution_count": 47,
      "outputs": [
        {
          "output_type": "stream",
          "name": "stdout",
          "text": [
            "1/1 [==============================] - 0s 329ms/step - loss: 0.1415 - accuracy: 1.0000\n"
          ]
        }
      ]
    },
    {
      "cell_type": "code",
      "source": [
        "prediction = model.predict(test_X)"
      ],
      "metadata": {
        "id": "jAZfiqaNxjRz"
      },
      "execution_count": 48,
      "outputs": []
    },
    {
      "cell_type": "code",
      "source": [
        "print(\"test data accuracy: \", acc)\n",
        "for i in range(10):\n",
        "  print(\"{}번째 test data answer: \\t{}\".format(i, test_Y.iloc[i]))\n",
        "  print(\"{}번째 test data prediction: \\t{}\".format(i, np.argmax(prediction[i])))"
      ],
      "metadata": {
        "colab": {
          "base_uri": "https://localhost:8080/"
        },
        "id": "4E2M6lVqxo_7",
        "outputId": "81d08932-643a-408d-d13f-7b371f36f2bb"
      },
      "execution_count": 49,
      "outputs": [
        {
          "output_type": "stream",
          "name": "stdout",
          "text": [
            "test data accuracy:  1.0\n",
            "0번째 test data answer: \t1\n",
            "0번째 test data prediction: \t1\n",
            "1번째 test data answer: \t0\n",
            "1번째 test data prediction: \t0\n",
            "2번째 test data answer: \t2\n",
            "2번째 test data prediction: \t2\n",
            "3번째 test data answer: \t1\n",
            "3번째 test data prediction: \t1\n",
            "4번째 test data answer: \t1\n",
            "4번째 test data prediction: \t1\n",
            "5번째 test data answer: \t0\n",
            "5번째 test data prediction: \t0\n",
            "6번째 test data answer: \t1\n",
            "6번째 test data prediction: \t1\n",
            "7번째 test data answer: \t2\n",
            "7번째 test data prediction: \t2\n",
            "8번째 test data answer: \t1\n",
            "8번째 test data prediction: \t1\n",
            "9번째 test data answer: \t1\n",
            "9번째 test data prediction: \t1\n"
          ]
        }
      ]
    },
    {
      "cell_type": "code",
      "source": [
        ""
      ],
      "metadata": {
        "id": "g8hBlg1Qxq4a"
      },
      "execution_count": null,
      "outputs": []
    }
  ]
}